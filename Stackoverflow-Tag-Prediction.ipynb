{
 "cells": [
  {
   "cell_type": "code",
   "execution_count": 52,
   "metadata": {},
   "outputs": [],
   "source": [
    "import warnings\n",
    "warnings.filterwarnings(\"ignore\")\n",
    "\n",
    "import os\n",
    "import re\n",
    "\n",
    "import pandas as pd\n",
    "import numpy as np\n",
    "import matplotlib.pyplot as plt\n",
    "import seaborn as sns\n",
    "\n",
    "import sqlite3\n",
    "from sqlalchemy import create_engine      #database connection\n",
    "\n",
    "from scipy import sparse\n",
    "from wordcloud import WordCloud\n",
    "\n",
    "from datetime import datetime\n",
    "\n",
    "from sklearn.feature_extraction.text import CountVectorizer\n",
    "from sklearn.feature_extraction.text import TfidfVectorizer\n",
    "from sklearn.multiclass import OneVsRestClassifier\n",
    "from sklearn.linear_model import SGDClassifier\n",
    "from sklearn.metrics import f1_score,precision_score,recall_score\n",
    "from sklearn.metrics import classification_report\n",
    "from sklearn.metrics import accuracy_score\n",
    "\n",
    "from nltk.corpus import stopwords\n",
    "from nltk.tokenize import word_tokenize\n",
    "from nltk.stem.snowball import SnowballStemmer\n",
    "\n",
    "DATAPATH =\"C:/Users/Shalaka/Desktop/AI/\"\n",
    "DATA_DB =\"Train30.db\"\n",
    "DATA_CSV =\"Train30.csv\"\n",
    "DATA_DB_DEADUP = \"TRAIN_NEW.db\"\n",
    "DATA_PROCESSED = \"PROCESSED.DB\""
   ]
  },
  {
   "cell_type": "code",
   "execution_count": null,
   "metadata": {},
   "outputs": [],
   "source": []
  },
  {
   "cell_type": "code",
   "execution_count": 39,
   "metadata": {},
   "outputs": [],
   "source": [
    "if not os.path.isfile(os.path.join(DATAPATH, DATA_DB)):\n",
    "    start = datetime.now()\n",
    "    #this sqlalchemy create_engine creates an in-memory SQLite database.\n",
    "    engine = create_engine(\"sqlite:///\"+os.path.join(DATAPATH, DATA_DB)) #https://docs.sqlalchemy.org/en/13/core/engines.html\n",
    "    chunksize = 150\n",
    "    cnt = 0\n",
    "    for rows in pd.read_csv(os.path.join(DATAPATH, DATA_CSV), names = [\"Id\", \"Title\", \"Body\", \"Tags\"], chunksize = chunksize, iterator = True):\n",
    "        cnt+=1\n",
    "        rows.to_sql('Rows', engine, if_exists='append', index = False)\n",
    "        if cnt % 1000 == 0:\n",
    "            print(\"{} rows written\".format(cnt*chunksize))\n",
    "    print(\"Time taken to run this cell :\", datetime.now() - start)\n"
   ]
  },
  {
   "cell_type": "code",
   "execution_count": 42,
   "metadata": {},
   "outputs": [
    {
     "name": "stdout",
     "output_type": "stream",
     "text": [
      "Total number of rows in database = 661650\n",
      "Time taken to run this cell : 0:02:17.448230\n"
     ]
    }
   ],
   "source": [
    "if os.path.isfile(os.path.join(DATAPATH,DATA_DB)):\n",
    "    start=datetime.now()\n",
    "    connection=sqlite3.connect(os.path.join(DATAPATH, DATA_DB))\n",
    "    data_count=pd.read_sql_query(\"SELECT COUNT(*) FROM ROWS\",connection)\n",
    "    connection.close()\n",
    "    print(\"Total number of rows in database = {}\".format(data_count[\"COUNT(*)\"][0]))\n",
    "    print(\"Time taken to run this cell :\",datetime.now() - start)"
   ]
  },
  {
   "cell_type": "code",
   "execution_count": 45,
   "metadata": {},
   "outputs": [
    {
     "name": "stdout",
     "output_type": "stream",
     "text": [
      "Time taken to run this cell : 0:04:56.157482\n"
     ]
    }
   ],
   "source": [
    "if os.path.isfile(os.path.join(DATAPATH,DATA_DB)):\n",
    "    start=datetime.now()\n",
    "    connection=sqlite3.connect(os.path.join(DATAPATH, DATA_DB))\n",
    "    data_dup=pd.read_sql_query(\"SELECT TITLE,BODY,TAGS, COUNT(*) AS COUNT_DUP FROM ROWS GROUP BY TITLE, BODY, TAGS\",connection)\n",
    "    connection.close()\n",
    "    print(\"Time taken to run this cell :\",datetime.now()-start)"
   ]
  },
  {
   "cell_type": "code",
   "execution_count": 46,
   "metadata": {},
   "outputs": [
    {
     "data": {
      "text/html": [
       "<div>\n",
       "<style scoped>\n",
       "    .dataframe tbody tr th:only-of-type {\n",
       "        vertical-align: middle;\n",
       "    }\n",
       "\n",
       "    .dataframe tbody tr th {\n",
       "        vertical-align: top;\n",
       "    }\n",
       "\n",
       "    .dataframe thead th {\n",
       "        text-align: right;\n",
       "    }\n",
       "</style>\n",
       "<table border=\"1\" class=\"dataframe\">\n",
       "  <thead>\n",
       "    <tr style=\"text-align: right;\">\n",
       "      <th></th>\n",
       "      <th>Title</th>\n",
       "      <th>Body</th>\n",
       "      <th>Tags</th>\n",
       "      <th>COUNT_DUP</th>\n",
       "    </tr>\n",
       "  </thead>\n",
       "  <tbody>\n",
       "    <tr>\n",
       "      <th>0</th>\n",
       "      <td>\"SQL Injection\" issue preventing correct for...</td>\n",
       "      <td>&lt;p&gt;So I've been checking everything I can thin...</td>\n",
       "      <td>php forms</td>\n",
       "      <td>1</td>\n",
       "    </tr>\n",
       "    <tr>\n",
       "      <th>1</th>\n",
       "      <td>$f$ a continuous function in [0,1], Show: $\\l...</td>\n",
       "      <td>&lt;p&gt;Let $f$ be a continuous function in [0,1] a...</td>\n",
       "      <td>calculus</td>\n",
       "      <td>1</td>\n",
       "    </tr>\n",
       "    <tr>\n",
       "      <th>2</th>\n",
       "      <td>*** Exception: Prelude.read: no parse in Hask...</td>\n",
       "      <td>&lt;p&gt;This portion of code should read in two or ...</td>\n",
       "      <td>parsing haskell expression</td>\n",
       "      <td>1</td>\n",
       "    </tr>\n",
       "    <tr>\n",
       "      <th>3</th>\n",
       "      <td>/tmp has changed to read only</td>\n",
       "      <td>&lt;p&gt;Our sysadmin has left for the day and our p...</td>\n",
       "      <td>linux filesystems</td>\n",
       "      <td>1</td>\n",
       "    </tr>\n",
       "    <tr>\n",
       "      <th>4</th>\n",
       "      <td>500 Internal Server Error in ASP.NET MVC</td>\n",
       "      <td>&lt;p&gt;I am working in ASP.NET MVC. I am using par...</td>\n",
       "      <td>asp.net-mvc</td>\n",
       "      <td>1</td>\n",
       "    </tr>\n",
       "  </tbody>\n",
       "</table>\n",
       "</div>"
      ],
      "text/plain": [
       "                                               Title  \\\n",
       "0    \"SQL Injection\" issue preventing correct for...   \n",
       "1   $f$ a continuous function in [0,1], Show: $\\l...   \n",
       "2   *** Exception: Prelude.read: no parse in Hask...   \n",
       "3                      /tmp has changed to read only   \n",
       "4           500 Internal Server Error in ASP.NET MVC   \n",
       "\n",
       "                                                Body  \\\n",
       "0  <p>So I've been checking everything I can thin...   \n",
       "1  <p>Let $f$ be a continuous function in [0,1] a...   \n",
       "2  <p>This portion of code should read in two or ...   \n",
       "3  <p>Our sysadmin has left for the day and our p...   \n",
       "4  <p>I am working in ASP.NET MVC. I am using par...   \n",
       "\n",
       "                         Tags  COUNT_DUP  \n",
       "0                   php forms          1  \n",
       "1                    calculus          1  \n",
       "2  parsing haskell expression          1  \n",
       "3           linux filesystems          1  \n",
       "4                 asp.net-mvc          1  "
      ]
     },
     "execution_count": 46,
     "metadata": {},
     "output_type": "execute_result"
    }
   ],
   "source": [
    "data_dup.head()"
   ]
  },
  {
   "cell_type": "code",
   "execution_count": 62,
   "metadata": {},
   "outputs": [
    {
     "data": {
      "text/plain": [
       "(636714, 3)"
      ]
     },
     "execution_count": 62,
     "metadata": {},
     "output_type": "execute_result"
    }
   ],
   "source": [
    "data_dup.shape"
   ]
  },
  {
   "cell_type": "code",
   "execution_count": 48,
   "metadata": {},
   "outputs": [
    {
     "name": "stdout",
     "output_type": "stream",
     "text": [
      "Percentage of duplicate data points = 24936(3.7687599183858533%)\n"
     ]
    }
   ],
   "source": [
    "print(\"Percentage of duplicate data points = {}({}%)\".format((data_count[\"COUNT(*)\"][0]-data_dup.shape[0]),((data_count[\"COUNT(*)\"][0]-data_dup.shape[0])/data_count[\"COUNT(*)\"][0]*100)))"
   ]
  },
  {
   "cell_type": "code",
   "execution_count": 50,
   "metadata": {},
   "outputs": [
    {
     "data": {
      "text/plain": [
       "1    612145\n",
       "2     24202\n",
       "3       367\n",
       "Name: COUNT_DUP, dtype: int64"
      ]
     },
     "execution_count": 50,
     "metadata": {},
     "output_type": "execute_result"
    }
   ],
   "source": [
    "data_dup['COUNT_DUP'].value_counts()"
   ]
  },
  {
   "cell_type": "code",
   "execution_count": 53,
   "metadata": {},
   "outputs": [],
   "source": [
    "if not os.path.isfile(os.path.join(DATAPATH, DATA_DB_DEADUP)):\n",
    "    engine=create_engine(\"sqlite:///\"+os.path.join(DATAPATH,DATA_DB_DEADUP))\n",
    "    data_dup=pd.DataFrame(data_dup,columns=['Title','Body','Tags'])\n",
    "    data_dup.to_sql(\"no_dup_train\",engine)"
   ]
  },
  {
   "cell_type": "code",
   "execution_count": 56,
   "metadata": {},
   "outputs": [
    {
     "data": {
      "text/plain": [
       "(636714, 3)"
      ]
     },
     "execution_count": 56,
     "metadata": {},
     "output_type": "execute_result"
    }
   ],
   "source": [
    "data_dup.shape"
   ]
  },
  {
   "cell_type": "code",
   "execution_count": 60,
   "metadata": {},
   "outputs": [],
   "source": [
    "if not os.path.isfile(os.path.join(DATAPATH, DATA_DB_DEADUP)):\n",
    "    con=sqlite3.connect(os.path.join(DATAPATH, DATA_DB_DEADUP))\n",
    "    data_tags=pd.read_sql_query(\"SELECT TAGS FROM no_dup_train\",con)\n",
    "    data_tags_count=data_tags[\"Tags\"].apply(lambda x:len(x.split(\" \")))\n",
    "    data_tags[\"Tags_count\"]=data_tags_count\n",
    "    data_tags.head()"
   ]
  },
  {
   "cell_type": "code",
   "execution_count": 61,
   "metadata": {},
   "outputs": [
    {
     "data": {
      "text/html": [
       "<div>\n",
       "<style scoped>\n",
       "    .dataframe tbody tr th:only-of-type {\n",
       "        vertical-align: middle;\n",
       "    }\n",
       "\n",
       "    .dataframe tbody tr th {\n",
       "        vertical-align: top;\n",
       "    }\n",
       "\n",
       "    .dataframe thead th {\n",
       "        text-align: right;\n",
       "    }\n",
       "</style>\n",
       "<table border=\"1\" class=\"dataframe\">\n",
       "  <thead>\n",
       "    <tr style=\"text-align: right;\">\n",
       "      <th></th>\n",
       "      <th>Tags</th>\n",
       "      <th>Tags_count</th>\n",
       "    </tr>\n",
       "  </thead>\n",
       "  <tbody>\n",
       "    <tr>\n",
       "      <th>0</th>\n",
       "      <td>php forms</td>\n",
       "      <td>2</td>\n",
       "    </tr>\n",
       "    <tr>\n",
       "      <th>1</th>\n",
       "      <td>calculus</td>\n",
       "      <td>1</td>\n",
       "    </tr>\n",
       "    <tr>\n",
       "      <th>2</th>\n",
       "      <td>parsing haskell expression</td>\n",
       "      <td>3</td>\n",
       "    </tr>\n",
       "    <tr>\n",
       "      <th>3</th>\n",
       "      <td>linux filesystems</td>\n",
       "      <td>2</td>\n",
       "    </tr>\n",
       "    <tr>\n",
       "      <th>4</th>\n",
       "      <td>asp.net-mvc</td>\n",
       "      <td>1</td>\n",
       "    </tr>\n",
       "  </tbody>\n",
       "</table>\n",
       "</div>"
      ],
      "text/plain": [
       "                         Tags  Tags_count\n",
       "0                   php forms           2\n",
       "1                    calculus           1\n",
       "2  parsing haskell expression           3\n",
       "3           linux filesystems           2\n",
       "4                 asp.net-mvc           1"
      ]
     },
     "execution_count": 61,
     "metadata": {},
     "output_type": "execute_result"
    }
   ],
   "source": [
    "data_tags.head()"
   ]
  },
  {
   "cell_type": "code",
   "execution_count": 66,
   "metadata": {},
   "outputs": [
    {
     "name": "stdout",
     "output_type": "stream",
     "text": [
      "Maximum number of Tags per Question = 5\n",
      "Minimum number of Tags per Question = 1\n",
      "Avg number of Tags per Question = 2.8891134795214177\n"
     ]
    }
   ],
   "source": [
    "print(\"Maximum number of Tags per Question = \"+str(max(data_tags[\"Tags_count\"])))\n",
    "print(\"Minimum number of Tags per Question = \"+str(min(data_tags[\"Tags_count\"])))\n",
    "print(\"Avg number of Tags per Question = \"+str(sum(data_tags[\"Tags_count\"])/len(data_tags[\"Tags_count\"])))"
   ]
  },
  {
   "cell_type": "code",
   "execution_count": 69,
   "metadata": {},
   "outputs": [
    {
     "data": {
      "image/png": "[encoded data removed]",
      "text/plain": [
       "<Figure size 432x288 with 1 Axes>"
      ]
     },
     "metadata": {
      "needs_background": "light"
     },
     "output_type": "display_data"
    }
   ],
   "source": [
    "fig=plt.figure()\n",
    "axes=fig.add_axes([0.1,0.1,1,1])\n",
    "axes.set_title(\"Distribution of Tags per Question\")\n",
    "axes.set_xlabel(\"Tags\")\n",
    "axes.set_ylabel(\"Count\")\n",
    "sns.countplot(list(data_tags[\"Tags_count\"]),ax=axes)\n",
    "plt.show()"
   ]
  },
  {
   "cell_type": "code",
   "execution_count": 71,
   "metadata": {},
   "outputs": [
    {
     "data": {
      "text/plain": [
       "3    182329\n",
       "2    169419\n",
       "4    122752\n",
       "1     87091\n",
       "5     75123\n",
       "Name: Tags_count, dtype: int64"
      ]
     },
     "execution_count": 71,
     "metadata": {},
     "output_type": "execute_result"
    }
   ],
   "source": [
    "data_tags[\"Tags_count\"].value_counts()"
   ]
  },
  {
   "cell_type": "code",
   "execution_count": null,
   "metadata": {},
   "outputs": [],
   "source": [
    "if os.path.isfile(os.path.join(DATAPATH,DATA_DB_DEADUP)):\n",
    "    con=sqlite3.connect(os.path.join(DATAPATH,DATA_DB_DEADUP))\n",
    "    data_tags=pd.read_sql_query(\"SELECT Tags FROM no_dup_train\", con)\n",
    "    vectorizer=CountVectorizer(tokenizer= lambda x:x.split(\" \"))\n",
    "    data_bow=CountVectorizer()"
   ]
  }
 ],
 "metadata": {
  "kernelspec": {
   "display_name": "Python 3",
   "language": "python",
   "name": "python3"
  },
  "language_info": {
   "codemirror_mode": {
    "name": "ipython",
    "version": 3
   },
   "file_extension": ".py",
   "mimetype": "text/x-python",
   "name": "python",
   "nbconvert_exporter": "python",
   "pygments_lexer": "ipython3",
   "version": "3.7.0"
  }
 },
 "nbformat": 4,
 "nbformat_minor": 2
}
